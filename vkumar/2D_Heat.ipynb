{
 "cells": [
  {
   "cell_type": "markdown",
   "metadata": {},
   "source": [
    "### 2D Finite Volume Method for Multi-Material Selective Laser Sintering \n",
    "### Abstract \n",
    "Selective Laser Sintering (SLS) is an Additive Manufacturing (AM) technique that sinters material powders together using a laser in a heated enclosure. Typically, SLS printing of thermoplastic polymers is done with one material. Technology advances have introduced the possibility of multi-material (M2) SLS printing involving more than one different thermoplastics being sintered in one print. M2 AM is an attractive domain of AM because of the potential to create highly-customizable mechanically-tailored structures for many industries.  However, differences in thermal properties between materals result in frequent print errors which create weakness in printed structures, poor dimensional stability, and aborted prints. This beckons a better understanding of the thermal mechanisms of the M2 SLS printing process. This report presents the preliminary calculations and modeling of a 2-dimensional (2D) M2 SLS print using finite volume method (FVM). \n",
    "\n",
    "### Introduction \n",
    "\n",
    "This report follows the assumptions made in Chen et al. (2010):\n",
    "1. Melting and resolidification in SLS is a conduction-controlled phase-change\n",
    "problem.\n",
    "2. The thermal properties of the low-melting-point powder are the same for\n",
    "both liquid and solid phases.\n",
    "3. Two kinds of metal powders are fully mixed, and the initial porosity is\n",
    "uniform.\n",
    "4. The bottom of the computational domain for both cases is adiabatic.\n",
    "5. The horizontal dimension of the powder layer is significantly larger than the\n",
    "diameter of the laser beam.\n",
    "\n",
    "The heat transfer mechanisms in SLS are complicated and involve all modes: conduction, convection, and radiation. Fourier heat conducion theory is commonly used to describe the SLS heat conduction evolution:\n",
    "\n",
    "$\\lambda(\\frac{\\partial^2T}{\\partial x^2} + \\frac{\\partial^2T}{\\partial y^2} + \\frac{\\partial^2T}{\\partial z^2}) + q = \\rho C \\frac{\\partial T}{\\partial t}$\n",
    "\n",
    "$(\\frac{\\delta T}{\\delta t}) \\approx \\frac{T^{n+1} - T^n}{\\Delta t} $\n",
    "\n",
    "$(\\frac{\\partial^2T}{\\partial x^2}) \\approx \\frac{T_{n+1,m} - 2T_{n,m} + T_{i,j-1}}{\\Delta x^2}$\n",
    "\n",
    "$(\\frac{\\partial^2T}{\\partial y^2}) \\approx \\frac{T_{n+1,m} - 2T_{n,m} + T_{i,j-1}}{\\Delta y^2}$\n",
    "\n",
    "$(\\frac{\\partial^2T}{\\partial z^2}) \\approx \\frac{T_{n+1,m} - 2T_{n,m} + T_{i,j-1}}{\\Delta z^2}$\n",
    "\n",
    "$\\lambda(\\frac{T_{n+1,m} - 2T_{n,m} + T_{i,j-1}}{\\Delta x^2} + \\frac{T_{n+1,m} - 2T_{n,m} + T_{i,j-1}}{\\Delta y^2} + \\frac{T_{n+1,m} - 2T_{n,m} + T_{i,j-1}}{\\Delta z^2}) + q = \\rho C \\frac{T^{n+1} - T^n}{\\Delta t} $\n",
    "\n",
    "Boundary conditions: \n",
    "\n",
    "$-\\lambda \\frac{\\partial T}{\\partial z} = \\epsilon_\\theta \\sigma (T^4 - T_e^4) + h(T - T_e)$\n",
    "\n",
    "$-\\lambda \\frac{\\partial T}{\\partial z}|_{z=0} = 0$\n",
    "\n",
    "$ T $ is the temperature, \n",
    "$ \\lambda $ dimensionless shrinkage velocity,\n",
    "$ \\rho $ is the density of the powder,\n",
    "$ C $ is the heat capacity coefficient,\n",
    "$ q $ is the internal heat ,\n",
    "$ T_0 $ is the powder bed initial temperature, \n",
    "$ T_e $ the environment temperature,\n",
    "$ \\epsilon_\\theta $ is the thermal radiation coefficient,\n",
    "$ \\sigma $ is the Stefan-Boltzmann constant,\n",
    "and $ h $ is the convection heat transfer coefficient, \n",
    "\n",
    "### Methodology \n",
    "\n",
    "$-U\\frac{\\partial(CT)}{\\partial X} + W\\frac{\\partial(CT)}{\\partial Z}= \\frac{\\partial}{\\partial X}(K\\frac{\\partial(T)}{\\partial X}) - (-U\\frac{\\partial S}{\\partial X} + W\\frac{\\partial S}{\\partial Z}) $\n",
    "\n",
    "\n",
    "\n",
    "$ U $ is the laser scan speed, \n",
    "$ W $ is the dimensionless shrinkage velocity,\n",
    "$ C $ is the heat capacity,\n",
    "$ S $ is the source term,\n",
    "and $ K $ is the thermal conductivity \n",
    "\n",
    "The values of the above parameters are dependent on whether the powder is in its loose unsintered form, or in it's resolidifed sintered form. For the loose unsintered form:\n",
    "\n",
    "\n",
    "\n",
    "### Problem Definition \n",
    "### Results and Discussion \n",
    "### Conclusion \n",
    "### References \n",
    "\n",
    "[1] Kumar CFD [2]\n"
   ]
  },
  {
   "cell_type": "markdown",
   "metadata": {},
   "source": []
  },
  {
   "cell_type": "code",
   "execution_count": 11,
   "metadata": {},
   "outputs": [],
   "source": [
    "import matplotlib.pyplot as plt\n",
    "import numpy as np\n",
    "import json"
   ]
  },
  {
   "cell_type": "code",
   "execution_count": 12,
   "metadata": {},
   "outputs": [
    {
     "data": {
      "image/png": "[encoded data removed]",
      "text/plain": [
       "<Figure size 432x288 with 2 Axes>"
      ]
     },
     "metadata": {
      "needs_background": "light"
     },
     "output_type": "display_data"
    },
    {
     "name": "stdout",
     "output_type": "stream",
     "text": [
      "899\n"
     ]
    }
   ],
   "source": [
    "import matplotlib.pyplot as plt\n",
    "import numpy as np\n",
    "import json\n",
    "Lx=2.5; Ly=2.5; n = 30; m = 30; nn=n*m; # Geom descretization/mesh\n",
    "Ta=500; Tb=500; Tc=500; Td=500; # BCs\n",
    "k=0.12; Cp = 1185; rho = 1015;\n",
    "delta_t = 60 # Properties\n",
    "LP = 20000; SS = .200 ;\n",
    " \n",
    "dx = Lx/n;  dy = Ly/m;   \n",
    "x = np.linspace(dx/2,Lx-dx/2,n); y = np.linspace(dy/2,Ly-dy/2,m); [X, Y]=np.meshgrid(x,y); \n",
    "\n",
    "A=np.zeros([nn,nn]); b=np.zeros([nn]); d2=np.zeros([m,n])\n",
    "dz=1;  G=k; q=LP*delta_t; #Added heat generation  \n",
    "\n",
    "for j in range(m): \n",
    "     for i in range(n): \n",
    "        P = j*n+i; W = P-1; E = P+1; N=P+n; S=P-n; \n",
    "        Aw = dy*dz; Ae=Aw; An=dx*dz; As = An; Su=0; Sua=0*q*Aw; Sub=0*q*Ae; Suc=0*q*As; Sud=q*An; Sp=0; \n",
    "        aW = G*Aw/dx; aE = G*Ae/dx; aN = G*An/dy; aS = G*As/dy; a_0P = rho*Cp*dx*dy/delta_t\n",
    "        if(i>0): \n",
    "            A[P,W]=-aW; \n",
    "        else: \n",
    "            aW=0; Sp=Sp-2*G*Aw/dx; Su=Sua + 2*G*Aw/dx*Ta; #q*Aw*dx; #aW=0; Sp=Sp-2*G*Aw/dx; Su=Su + 2*G*Aw/dx*Ta;\n",
    "        \n",
    "        if(i<n-1): \n",
    "            A[P,E]=-aE; \n",
    "        else:\n",
    "            aE=0; Sp=Sp-2*G*Ae/dx; Su=Sub + 2*G*Ae/dx*Tb;\n",
    "        if(j>0): \n",
    "            A[P,S]=-aS; \n",
    "        else:\n",
    "            aS=0; Sp=Sp-2*G*As/dy; Su=Suc + 2*G*As/dy*Tc;\n",
    "        if(j<m-1): \n",
    "            A[P,N]=-aN; \n",
    "        else:\n",
    "            aN=0; Sp=Sp-2*G*An/dy; Su=Sud + 2*G*An/dy*Td;\n",
    "        \n",
    "        aP = aW + aE + aS + aN + a_0P - Sp; \n",
    "        A[P,P] = aP; \n",
    "        b[P]=Su; \n",
    "        \n",
    "\n",
    "d=np.linalg.solve(A,b);  \n",
    "\n",
    "for j in range(m):\n",
    "    for i in range(n):\n",
    "        IN=j*n+i; d2[j,i]=d[IN];\n",
    "        \n",
    "fig = plt.figure()\n",
    "plt.contourf(X, Y, d2)\n",
    "plt.colorbar()\n",
    "plt.show()\n",
    "\n",
    "print(IN)\n",
    "\n",
    "\n"
   ]
  },
  {
   "cell_type": "code",
   "execution_count": null,
   "metadata": {},
   "outputs": [],
   "source": []
  }
 ],
 "metadata": {
  "kernelspec": {
   "display_name": "Python 3",
   "language": "python",
   "name": "python3"
  },
  "language_info": {
   "codemirror_mode": {
    "name": "ipython",
    "version": 3
   },
   "file_extension": ".py",
   "mimetype": "text/x-python",
   "name": "python",
   "nbconvert_exporter": "python",
   "pygments_lexer": "ipython3",
   "version": "3.8.5"
  }
 },
 "nbformat": 4,
 "nbformat_minor": 4
}
