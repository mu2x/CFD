{
 "cells": [
  {
   "cell_type": "markdown",
   "metadata": {},
   "source": [
    "Using finite volume method, solve for $\\phi$, $$\\nabla \\cdot (\\Gamma \\nabla \\phi ) + S_p=0 $$ \n",
    "More at https://drive.google.com/file/d/1GBn-iGhxfcweesulz87syuZcGr9teI4y/view"
   ]
  },
  {
   "cell_type": "code",
   "execution_count": 4,
   "metadata": {},
   "outputs": [
    {
     "name": "stdout",
     "output_type": "stream",
     "text": [
      "[0.05 0.15 0.25 0.35 0.45]\n"
     ]
    }
   ],
   "source": [
    "import numpy as np\n",
    "\n",
    "n=5; \n",
    "T1 = 100; T2=500; L=0.5; dx=0.1; \n",
    "k=1000; A=10E-3; \n",
    "x = np.linspace(0+dx/2,L-dx/2,n); print(x)\n",
    "\n",
    "aW = k*A/dx; aE=k*A/dx; sP=0; sU=0; \n",
    "aP=aW+aE - sP; bP=sU;\n"
   ]
  },
  {
   "cell_type": "code",
   "execution_count": null,
   "metadata": {},
   "outputs": [],
   "source": []
  }
 ],
 "metadata": {
  "kernelspec": {
   "display_name": "Python 3",
   "language": "python",
   "name": "python3"
  },
  "language_info": {
   "codemirror_mode": {
    "name": "ipython",
    "version": 3
   },
   "file_extension": ".py",
   "mimetype": "text/x-python",
   "name": "python",
   "nbconvert_exporter": "python",
   "pygments_lexer": "ipython3",
   "version": "3.8.3"
  }
 },
 "nbformat": 4,
 "nbformat_minor": 4
}
