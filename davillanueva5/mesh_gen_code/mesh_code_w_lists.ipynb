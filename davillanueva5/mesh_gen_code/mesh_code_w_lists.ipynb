{
 "cells": [
  {
   "cell_type": "code",
   "execution_count": 20,
   "metadata": {},
   "outputs": [],
   "source": [
    "import numpy as np\n",
    "import pandas as pd\n",
    "import re\n",
    "import os\n",
    "import matplotlib\n",
    "import matplotlib.pyplot as plt\n",
    "import json"
   ]
  },
  {
   "cell_type": "code",
   "execution_count": 23,
   "metadata": {},
   "outputs": [],
   "source": [
    "meshfile = open('square.txt','r'); #Read .txt file\n",
    "trash = 30; \n",
    "read_lines = meshfile.readlines()[trash:] #Read lines function /skips first 30 lines of .txt file\n",
    "matches = []\n",
    "node_tags = []\n",
    "el_tags = []\n",
    "x_extraction = []; y_extraction = [];\n",
    "node1 = []; node2 = []; node3 = []; node4 = [];\n",
    "connect1 = []; connect2 = []; connect3 = []; connect4 = [];\n",
    "#------------------------------------------------DATA EXTRACTION----------------------------------------------------------------\n",
    "for line in read_lines: #For cycle to go over all lines in .txt\n",
    "    #result.append(read_lines)\n",
    "    if line.__contains__('GRID'): #Condition to read lines 'GRID (nodal points and its coordinates)'\n",
    "        n_data = re.match(\"GRID\\s+(\\d+)\\s{8}(.{8})(.{8})\", line) #Matches all nodal data in ordered columns\n",
    "        node_tags.append(int(n_data.group(1))) #Saves the numbers to 'node_tags' variable to store them globally\n",
    "              \n",
    "        col2 = n_data.group(2)\n",
    "        col3 = n_data.group(3)\n",
    "        \n",
    "        if col2[4].__contains__('-'):\n",
    "            col2 = col2[:4] + 'e-' + col2[5:]\n",
    "            \n",
    "        elif col2[5].__contains__('-'):\n",
    "            col2 = col2[:5] + 'e-' + col2[6:]\n",
    "        \n",
    "        if col3[4].__contains__('-'):\n",
    "            col3 = col3[:4] + 'e-' + col3[5:]\n",
    "            \n",
    "        elif col3[5].__contains__('-'):\n",
    "            col3 = col3[:5] + 'e-' + col3[6:] \n",
    "            \n",
    "        x_extraction.append(float(col2))      \n",
    "        y_extraction.append(float(col3)) \n",
    "\n",
    "    try:\n",
    "            el_data = re.match('CQUAD4\\s+(\\d+)\\s+\\d\\s+(\\d+)\\s+(\\d+)\\s+(\\d+)\\s+(\\d+)', line) \n",
    "            el_tags.append(int(el_data.group(1)))\n",
    "            node1.append(int(el_data.group(2)))\n",
    "            node2.append(int(el_data.group(3)))\n",
    "            node3.append(int(el_data.group(4)))\n",
    "            node4.append(int(el_data.group(5)))\n",
    "            \n",
    "    except AttributeError:\n",
    "        pass;\n",
    " \n",
    " #----------------------------------------------DATA CONVERSION-----------------------------------------------------------------        \n",
    "\n",
    "nnodes = len(node_tags)\n",
    "nelements = len(el_tags)\n",
    "\n",
    "for i in range(nelements):\n",
    "    connect1.append(node_tags.index(node1[i]))\n",
    "    connect2.append(node_tags.index(node2[i]))\n",
    "    connect3.append(node_tags.index(node3[i]))\n",
    "    connect4.append(node_tags.index(node4[i]))\n",
    "\n",
    "node_tags = np.array(list(range(0, nnodes)))"
   ]
  },
  {
   "cell_type": "code",
   "execution_count": 42,
   "id": "19eb70d3",
   "metadata": {},
   "outputs": [
    {
     "data": {
      "image/png": "[encoded data removed]",
      "text/plain": [
       "<Figure size 720x720 with 1 Axes>"
      ]
     },
     "metadata": {
      "needs_background": "light"
     },
     "output_type": "display_data"
    }
   ],
   "source": [
    "x1 = []; x2 = []; x3 = []; x4 = [];\n",
    "y1 = []; y2 = []; y3 = []; y4 = [];\n",
    "\n",
    "for i in range(nelements):\n",
    "\n",
    "     x1.append(x_extraction[connect1[i]])  \n",
    "     x2.append(x_extraction[connect2[i]]) \n",
    "     x3.append(x_extraction[connect3[i]]) \n",
    "     x4.append(x_extraction[connect4[i]]) \n",
    "\n",
    "     y1.append(y_extraction[connect1[i]])  \n",
    "     y2.append(y_extraction[connect2[i]]) \n",
    "     y3.append(y_extraction[connect3[i]]) \n",
    "     y4.append(y_extraction[connect4[i]])\n",
    "\n",
    "xxx = [x1,x2,x3,x4,x1]\n",
    "yyy = [y1,y2,y3,y4,y1]\n",
    "\n",
    "#------------------------------------------------------------------CENTRAL NODES---------------------\n",
    "dx_coord = []; dy_coord = [];\n",
    "\n",
    "for i in range(nelements):\n",
    "    dx_coord.append(((x_extraction[node_tags[connect1[i]]])-(x_extraction[node_tags[connect4[i]]]))/2+(x_extraction[node_tags[connect4[i]]]))\n",
    "    dy_coord.append(((y_extraction[node_tags[connect2[i]]])-(y_extraction[node_tags[connect1[i]]]))/2+(y_extraction[node_tags[connect1[i]]]))\n",
    "\n",
    "#fig = plt.figure\n",
    "#plt.rcParams[\"figure.figsize\"] = (5,5)\n",
    "\n",
    "\n",
    "fig = plt.figure\n",
    "#plt.rcParams[\"figure.figsize\"] = (35,20)\n",
    "plt.rcParams[\"figure.figsize\"] = (10,10)\n",
    "plt.scatter(dx_coord,dy_coord)\n",
    "plt.plot(xxx,yyy, color = 'black')\n",
    "plt.axis('scaled')\n",
    "plt.draw() \n",
    "\n",
    "#plt.savefig('figure_name.png', dpi = 500)\n",
    "\n"
   ]
  },
  {
   "cell_type": "code",
   "execution_count": null,
   "metadata": {},
   "outputs": [],
   "source": [
    "Lx=0.5; Ly=0.5; n = 7; m = 7; nn=n*m; # Geom descretization/mesh\n",
    "Ta=100.1; Tb=100.2; Tc=100.3; Td=100.4; # BCs\n",
    "k=0.5;  # Properties\n",
    " \n",
    "dx = Lx/n;  dy = Ly/m;   \n",
    "x = np.linspace(dx/2,Lx-dx/2,n); y = np.linspace(dy/2,Ly-dy/2,m); [X, Y]=np.meshgrid(x,y); \n",
    "\n",
    "A=np.zeros([nn,nn]); b=np.zeros([nn]); d2=np.zeros([m,n])\n",
    "\n",
    "dz=1;  G=k; q=100000; \n",
    "\n",
    "for j in range(m): \n",
    "     for i in range(n): \n",
    "        P = j*n+i; W = P-1; E = P+1; N=P+n; S=P-n; \n",
    "        Aw = dy*dz; Ae=Aw; An=dx*dz; As = An; Su=0; Sp=0; Sua=0*q*Aw*dx; Sub=0*q*Ae*dx; Suc=0*q*As*dy; Sud=0*q*An*dy; \n",
    "        aW = G*Aw/dx; aE = G*Ae/dx; aN = G*An/dy; aS = G*As/dy;\n",
    "        if(i>0): \n",
    "            A[P,W]=-aW; \n",
    "        else: \n",
    "            aW=0; Sp=Sp-2*G*Aw/dx; Su=Su+Sua + 2*G*Aw/dx*Ta; #aW=0; Sp=Sp-2*G*Aw/dx; Su=Su + 2*G*Aw/dx*Ta;\n",
    "        \n",
    "        if(i<n-1): \n",
    "            A[P,E]=-aE; \n",
    "        else:\n",
    "            aE=0; Sp=Sp-2*G*Ae/dx; Su=Su+Sub + 2*G*Ae/dx*Tb;\n",
    "        if(j>0): \n",
    "            A[P,S]=-aS; \n",
    "        else:\n",
    "            aS=0; Sp=Sp-2*G*As/dy; Su=Su+Suc + 2*G*As/dy*Tc;\n",
    "        if(j<m-1): \n",
    "            A[P,N]=-aN; \n",
    "        else:\n",
    "            aN=0; Sp=Sp-2*G*An/dy; Su=Su+Sud + 2*G*An/dy*Td;\n",
    "        \n",
    "        aP = aW + aE + aS + aN - Sp; \n",
    "        A[P,P] = aP; \n",
    "        b[P]=Su; \n",
    "\n",
    "d=np.linalg.solve(A,b);  \n",
    "\n",
    "for j in range(m):\n",
    "    for i in range(n):\n",
    "        IN=j*n+i; d2[j,i]=d[IN];"
   ]
  },
  {
   "cell_type": "code",
   "execution_count": 33,
   "metadata": {},
   "outputs": [
    {
     "data": {
      "text/plain": [
       "<matplotlib.collections.PathCollection at 0x13d99deaee0>"
      ]
     },
     "execution_count": 33,
     "metadata": {},
     "output_type": "execute_result"
    },
    {
     "data": {
      "image/png": "[encoded data removed]",
      "text/plain": [
       "<Figure size 360x360 with 1 Axes>"
      ]
     },
     "metadata": {
      "needs_background": "light"
     },
     "output_type": "display_data"
    }
   ],
   "source": [
    "\n"
   ]
  }
 ],
 "metadata": {
  "interpreter": {
   "hash": "fb698bdeab99cfbf9e31cab566d99a06e057f2dec3dcc8097ebabb329e860e16"
  },
  "kernelspec": {
   "display_name": "Python 3.8.5 64-bit ('base': conda)",
   "language": "python",
   "name": "python3"
  },
  "language_info": {
   "codemirror_mode": {
    "name": "ipython",
    "version": 3
   },
   "file_extension": ".py",
   "mimetype": "text/x-python",
   "name": "python",
   "nbconvert_exporter": "python",
   "pygments_lexer": "ipython3",
   "version": "3.8.5"
  },
  "orig_nbformat": 4
 },
 "nbformat": 4,
 "nbformat_minor": 2
}
