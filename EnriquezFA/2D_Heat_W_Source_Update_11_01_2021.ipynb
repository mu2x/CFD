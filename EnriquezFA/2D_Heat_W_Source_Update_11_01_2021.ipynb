{
 "cells": [
  {
   "cell_type": "code",
   "execution_count": 1,
   "metadata": {},
   "outputs": [],
   "source": [
    "import matplotlib.pyplot as plt\n",
    "import numpy as np\n",
    "import json\n"
   ]
  },
  {
   "cell_type": "code",
   "execution_count": 2,
   "metadata": {},
   "outputs": [
    {
     "data": {
      "image/png": "[encoded data removed]",
      "text/plain": [
       "<Figure size 432x288 with 2 Axes>"
      ]
     },
     "metadata": {
      "needs_background": "light"
     },
     "output_type": "display_data"
    },
    {
     "name": "stdout",
     "output_type": "stream",
     "text": [
      "Max Temp = 260.03673947272785\n",
      "[260.03673947 227.79886148 212.16439905 242.27461747 211.19544592\n",
      " 196.52993661 205.591667   178.17836812 166.22996488 146.32201542\n",
      " 129.69639469 123.98158989]\n"
     ]
    }
   ],
   "source": [
    "Lx=0.3; Ly=0.4; n = 3; m =4; nn=n*m; # Geom descretization/mesh\n",
    "Ta=None; Tb=None; Tc=None; Td=100; # BCs\n",
    "k=1000;  # Properties\n",
    " \n",
    "dx = Lx/n;  dy = Ly/m;   \n",
    "\n",
    "x = np.linspace(dx/2,Lx-dx/2,n); y = np.linspace(dy/2,Ly-dy/2,m); [X, Y]=np.meshgrid(x,y); \n",
    "\n",
    "A=np.zeros([nn,nn]); b=np.zeros([nn]); d2=np.zeros([m,n])\n",
    "\n",
    "dz=0.01;  G=k; qa=500000; qb=0; qc=0; qd=0; \n",
    "\n",
    "for j in range(m): \n",
    "     for i in range(n): \n",
    "        P = j*n+i; W = P-1; E = P+1; N=P+n; S=P-n; \n",
    "        Aw = dy*dz; Ae=Aw; An=dx*dz; As = An; Su=0; Sp=0; Sua=qa*Aw; Sub=qb*Ae; Suc=qc*As; Sud=qd*An; \n",
    "        aW = G*Aw/dx; aE = G*Ae/dx; aN = G*An/dy; aS = G*As/dy;\n",
    "        if(i>0): \n",
    "            A[P,W]=-aW; \n",
    "        else: \n",
    "            if Ta:\n",
    "                aW=0; Sp=Sp-2*G*Aw/dx; Su=Su + 2*G*Aw/dx*Ta;  \n",
    "            else:\n",
    "                aW=0; Sp=Sp; Su=Sua + Su;\n",
    "     \n",
    "        if(i<n-1): \n",
    "            A[P,E]=-aE; \n",
    "        else:\n",
    "            if Tb:\n",
    "                aE=0; Sp=Sp-2*G*Ae/dx; Su=Su + 2*G*Ae/dx*Tb;\n",
    "            else:\n",
    "                aE=0; Sp=Sp; Su=Sub + Su;\n",
    "        if(j>0): \n",
    "            A[P,S]=-aS; \n",
    "        else:\n",
    "            if Tc:\n",
    "                aS=0; Sp=Sp-2*G*As/dy; Su=Su + 2*G*As/dy*Tc;\n",
    "            else:\n",
    "                aS=0; Sp=Sp; Su=Suc + Su;           \n",
    "        if(j<m-1): \n",
    "            A[P,N]=-aN; \n",
    "        else:\n",
    "            if Td:\n",
    "                aN=0; Sp=Sp-2*G*An/dy; Su=Su + 2*G*An/dy*Td;\n",
    "            else:\n",
    "                aN=0; Sp=Sp; Su=Sud + Su;           \n",
    "        aP = aW + aE + aS + aN - Sp; \n",
    "        A[P,P] = aP; \n",
    "        #print(A[P,P])\n",
    "        #print(aP)\n",
    "        b[P]=Su; \n",
    "\n",
    "d=np.linalg.solve(A,b);  \n",
    "\n",
    "for j in range(m):\n",
    "    for i in range(n):\n",
    "        IN=j*n+i; d2[j,i]=d[IN];\n",
    "        \n",
    "fig = plt.figure()\n",
    "plt.contourf(X, Y, d2)\n",
    "plt.colorbar()\n",
    "plt.show()\n",
    "\n",
    "print(\"Max Temp =\",max(d))\n",
    "print(d)"
   ]
  },
  {
   "cell_type": "code",
   "execution_count": null,
   "metadata": {},
   "outputs": [],
   "source": []
  }
 ],
 "metadata": {
  "interpreter": {
   "hash": "f85767144ba60e06b84615fff1853b87678be4044f12f972dadea1a34cadd894"
  },
  "kernelspec": {
   "display_name": "Python 3.10.0 64-bit",
   "language": "python",
   "name": "python3"
  },
  "language_info": {
   "codemirror_mode": {
    "name": "ipython",
    "version": 3
   },
   "file_extension": ".py",
   "mimetype": "text/x-python",
   "name": "python",
   "nbconvert_exporter": "python",
   "pygments_lexer": "ipython3",
   "version": "3.8.3"
  },
  "orig_nbformat": 4
 },
 "nbformat": 4,
 "nbformat_minor": 2
}
